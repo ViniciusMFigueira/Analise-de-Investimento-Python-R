{
 "cells": [
  {
   "cell_type": "markdown",
   "metadata": {},
   "source": [
    "# Calculating the Return of a Portfolio of Securities"
   ]
  },
  {
   "cell_type": "markdown",
   "metadata": {},
   "source": [
    "### Importando as bibliotecas"
   ]
  },
  {
   "cell_type": "code",
   "execution_count": 2,
   "metadata": {},
   "outputs": [],
   "source": [
    "import numpy as np\n",
    "import pandas as pd\n",
    "from pandas_datareader import data as wb\n",
    "import matplotlib.pyplot as plt"
   ]
  },
  {
   "cell_type": "markdown",
   "metadata": {},
   "source": [
    "### Download de dados para um portfólio composto por 6 ações. Faça isso para Lojas Americanas, Engie, Weg, Itaú, Localiza e Renner  no período ‘2019-07-28’ até a data atual."
   ]
  },
  {
   "cell_type": "code",
   "execution_count": 3,
   "metadata": {},
   "outputs": [],
   "source": [
    "tickers = ['LAME4.SA', 'EGIE3.SA','WEGE3.SA', 'ITSA4.SA', 'RENT3.SA', 'LREN3.SA']\n",
    "carteira = pd.DataFrame()\n",
    "for t in tickers:\n",
    "    carteira[t] = wb.DataReader(t, data_source='yahoo', start='2019-07-28')['Adj Close']"
   ]
  },
  {
   "cell_type": "markdown",
   "metadata": {},
   "source": [
    "### Conferindo se todas as ações possuem dados de negociação na data inicial."
   ]
  },
  {
   "cell_type": "code",
   "execution_count": 4,
   "metadata": {},
   "outputs": [
    {
     "data": {
      "text/html": [
       "<div>\n",
       "<style scoped>\n",
       "    .dataframe tbody tr th:only-of-type {\n",
       "        vertical-align: middle;\n",
       "    }\n",
       "\n",
       "    .dataframe tbody tr th {\n",
       "        vertical-align: top;\n",
       "    }\n",
       "\n",
       "    .dataframe thead th {\n",
       "        text-align: right;\n",
       "    }\n",
       "</style>\n",
       "<table border=\"1\" class=\"dataframe\">\n",
       "  <thead>\n",
       "    <tr style=\"text-align: right;\">\n",
       "      <th></th>\n",
       "      <th>LAME4.SA</th>\n",
       "      <th>EGIE3.SA</th>\n",
       "      <th>WEGE3.SA</th>\n",
       "      <th>ITSA4.SA</th>\n",
       "      <th>RENT3.SA</th>\n",
       "      <th>LREN3.SA</th>\n",
       "    </tr>\n",
       "    <tr>\n",
       "      <th>Date</th>\n",
       "      <th></th>\n",
       "      <th></th>\n",
       "      <th></th>\n",
       "      <th></th>\n",
       "      <th></th>\n",
       "      <th></th>\n",
       "    </tr>\n",
       "  </thead>\n",
       "  <tbody>\n",
       "    <tr>\n",
       "      <th>2019-07-29</th>\n",
       "      <td>17.042910</td>\n",
       "      <td>43.252815</td>\n",
       "      <td>11.598355</td>\n",
       "      <td>11.925572</td>\n",
       "      <td>41.082081</td>\n",
       "      <td>47.138927</td>\n",
       "    </tr>\n",
       "    <tr>\n",
       "      <th>2019-07-30</th>\n",
       "      <td>16.974741</td>\n",
       "      <td>43.538021</td>\n",
       "      <td>11.804943</td>\n",
       "      <td>11.732778</td>\n",
       "      <td>41.269672</td>\n",
       "      <td>47.255714</td>\n",
       "    </tr>\n",
       "    <tr>\n",
       "      <th>2019-07-31</th>\n",
       "      <td>17.675934</td>\n",
       "      <td>43.021095</td>\n",
       "      <td>11.716404</td>\n",
       "      <td>11.448182</td>\n",
       "      <td>41.269672</td>\n",
       "      <td>46.185249</td>\n",
       "    </tr>\n",
       "    <tr>\n",
       "      <th>2019-08-01</th>\n",
       "      <td>18.367388</td>\n",
       "      <td>42.869576</td>\n",
       "      <td>11.524575</td>\n",
       "      <td>11.521626</td>\n",
       "      <td>42.095066</td>\n",
       "      <td>47.508728</td>\n",
       "    </tr>\n",
       "    <tr>\n",
       "      <th>2019-08-02</th>\n",
       "      <td>18.445297</td>\n",
       "      <td>43.074566</td>\n",
       "      <td>11.677056</td>\n",
       "      <td>11.439002</td>\n",
       "      <td>42.873558</td>\n",
       "      <td>48.365086</td>\n",
       "    </tr>\n",
       "    <tr>\n",
       "      <th>2019-08-05</th>\n",
       "      <td>17.724627</td>\n",
       "      <td>42.245701</td>\n",
       "      <td>11.460632</td>\n",
       "      <td>11.255391</td>\n",
       "      <td>41.363461</td>\n",
       "      <td>47.323833</td>\n",
       "    </tr>\n",
       "    <tr>\n",
       "      <th>2019-08-06</th>\n",
       "      <td>17.870707</td>\n",
       "      <td>43.226086</td>\n",
       "      <td>11.755754</td>\n",
       "      <td>11.622614</td>\n",
       "      <td>42.113819</td>\n",
       "      <td>49.046288</td>\n",
       "    </tr>\n",
       "    <tr>\n",
       "      <th>2019-08-07</th>\n",
       "      <td>17.442202</td>\n",
       "      <td>42.245701</td>\n",
       "      <td>11.957421</td>\n",
       "      <td>11.925572</td>\n",
       "      <td>40.791313</td>\n",
       "      <td>48.705692</td>\n",
       "    </tr>\n",
       "    <tr>\n",
       "      <th>2019-08-08</th>\n",
       "      <td>17.529850</td>\n",
       "      <td>42.334820</td>\n",
       "      <td>12.021366</td>\n",
       "      <td>12.044918</td>\n",
       "      <td>42.207615</td>\n",
       "      <td>49.163067</td>\n",
       "    </tr>\n",
       "    <tr>\n",
       "      <th>2019-08-09</th>\n",
       "      <td>18.688770</td>\n",
       "      <td>42.655678</td>\n",
       "      <td>11.893479</td>\n",
       "      <td>11.989834</td>\n",
       "      <td>41.832432</td>\n",
       "      <td>49.104675</td>\n",
       "    </tr>\n",
       "  </tbody>\n",
       "</table>\n",
       "</div>"
      ],
      "text/plain": [
       "             LAME4.SA   EGIE3.SA   WEGE3.SA   ITSA4.SA   RENT3.SA   LREN3.SA\n",
       "Date                                                                        \n",
       "2019-07-29  17.042910  43.252815  11.598355  11.925572  41.082081  47.138927\n",
       "2019-07-30  16.974741  43.538021  11.804943  11.732778  41.269672  47.255714\n",
       "2019-07-31  17.675934  43.021095  11.716404  11.448182  41.269672  46.185249\n",
       "2019-08-01  18.367388  42.869576  11.524575  11.521626  42.095066  47.508728\n",
       "2019-08-02  18.445297  43.074566  11.677056  11.439002  42.873558  48.365086\n",
       "2019-08-05  17.724627  42.245701  11.460632  11.255391  41.363461  47.323833\n",
       "2019-08-06  17.870707  43.226086  11.755754  11.622614  42.113819  49.046288\n",
       "2019-08-07  17.442202  42.245701  11.957421  11.925572  40.791313  48.705692\n",
       "2019-08-08  17.529850  42.334820  12.021366  12.044918  42.207615  49.163067\n",
       "2019-08-09  18.688770  42.655678  11.893479  11.989834  41.832432  49.104675"
      ]
     },
     "execution_count": 4,
     "metadata": {},
     "output_type": "execute_result"
    }
   ],
   "source": [
    "carteira.head(10)"
   ]
  },
  {
   "cell_type": "markdown",
   "metadata": {},
   "source": [
    "### Normalização de dados para base 100"
   ]
  },
  {
   "cell_type": "code",
   "execution_count": 5,
   "metadata": {},
   "outputs": [
    {
     "data": {
      "text/plain": [
       "LAME4.SA    17.042910\n",
       "EGIE3.SA    43.252815\n",
       "WEGE3.SA    11.598355\n",
       "ITSA4.SA    11.925572\n",
       "RENT3.SA    41.082081\n",
       "LREN3.SA    47.138927\n",
       "Name: 2019-07-29 00:00:00, dtype: float64"
      ]
     },
     "execution_count": 5,
     "metadata": {},
     "output_type": "execute_result"
    }
   ],
   "source": [
    "carteira.iloc[0]"
   ]
  },
  {
   "cell_type": "markdown",
   "metadata": {},
   "source": [
    "### Plotando os dados das 6 ações no gráfico"
   ]
  },
  {
   "cell_type": "code",
   "execution_count": 6,
   "metadata": {},
   "outputs": [
    {
     "data": {
      "image/png": "[encoded data removed]",
      "text/plain": [
       "<Figure size 1080x432 with 1 Axes>"
      ]
     },
     "metadata": {
      "needs_background": "light"
     },
     "output_type": "display_data"
    }
   ],
   "source": [
    "(carteira / carteira.iloc[0] * 100).plot(figsize = (15, 6));\n",
    "plt.show()"
   ]
  },
  {
   "cell_type": "markdown",
   "metadata": {},
   "source": [
    "### Criando uma matrix numpy para calcular os retornos dos ativos da carteira"
   ]
  },
  {
   "cell_type": "code",
   "execution_count": 7,
   "metadata": {},
   "outputs": [
    {
     "data": {
      "text/html": [
       "<div>\n",
       "<style scoped>\n",
       "    .dataframe tbody tr th:only-of-type {\n",
       "        vertical-align: middle;\n",
       "    }\n",
       "\n",
       "    .dataframe tbody tr th {\n",
       "        vertical-align: top;\n",
       "    }\n",
       "\n",
       "    .dataframe thead th {\n",
       "        text-align: right;\n",
       "    }\n",
       "</style>\n",
       "<table border=\"1\" class=\"dataframe\">\n",
       "  <thead>\n",
       "    <tr style=\"text-align: right;\">\n",
       "      <th></th>\n",
       "      <th>LAME4.SA</th>\n",
       "      <th>EGIE3.SA</th>\n",
       "      <th>WEGE3.SA</th>\n",
       "      <th>ITSA4.SA</th>\n",
       "      <th>RENT3.SA</th>\n",
       "      <th>LREN3.SA</th>\n",
       "    </tr>\n",
       "    <tr>\n",
       "      <th>Date</th>\n",
       "      <th></th>\n",
       "      <th></th>\n",
       "      <th></th>\n",
       "      <th></th>\n",
       "      <th></th>\n",
       "      <th></th>\n",
       "    </tr>\n",
       "  </thead>\n",
       "  <tbody>\n",
       "    <tr>\n",
       "      <th>2021-07-14</th>\n",
       "      <td>-0.011241</td>\n",
       "      <td>0.003540</td>\n",
       "      <td>-0.004832</td>\n",
       "      <td>0.001764</td>\n",
       "      <td>0.036421</td>\n",
       "      <td>-0.002865</td>\n",
       "    </tr>\n",
       "    <tr>\n",
       "      <th>2021-07-15</th>\n",
       "      <td>-0.024633</td>\n",
       "      <td>0.007811</td>\n",
       "      <td>-0.002571</td>\n",
       "      <td>-0.007922</td>\n",
       "      <td>0.001896</td>\n",
       "      <td>-0.005968</td>\n",
       "    </tr>\n",
       "    <tr>\n",
       "      <th>2021-07-16</th>\n",
       "      <td>0.015056</td>\n",
       "      <td>-0.008000</td>\n",
       "      <td>-0.018041</td>\n",
       "      <td>-0.014197</td>\n",
       "      <td>-0.014699</td>\n",
       "      <td>0.001334</td>\n",
       "    </tr>\n",
       "    <tr>\n",
       "      <th>2021-07-19</th>\n",
       "      <td>-0.087760</td>\n",
       "      <td>-0.007308</td>\n",
       "      <td>-0.003208</td>\n",
       "      <td>-0.008101</td>\n",
       "      <td>-0.006647</td>\n",
       "      <td>-0.023984</td>\n",
       "    </tr>\n",
       "    <tr>\n",
       "      <th>2021-07-20</th>\n",
       "      <td>0.054430</td>\n",
       "      <td>0.002285</td>\n",
       "      <td>0.010825</td>\n",
       "      <td>0.011797</td>\n",
       "      <td>0.003717</td>\n",
       "      <td>-0.010239</td>\n",
       "    </tr>\n",
       "    <tr>\n",
       "      <th>2021-07-21</th>\n",
       "      <td>-0.051621</td>\n",
       "      <td>-0.004813</td>\n",
       "      <td>-0.002894</td>\n",
       "      <td>0.006278</td>\n",
       "      <td>-0.010222</td>\n",
       "      <td>-0.007126</td>\n",
       "    </tr>\n",
       "    <tr>\n",
       "      <th>2021-07-22</th>\n",
       "      <td>-0.007595</td>\n",
       "      <td>0.009926</td>\n",
       "      <td>0.018868</td>\n",
       "      <td>-0.011586</td>\n",
       "      <td>0.022302</td>\n",
       "      <td>0.015281</td>\n",
       "    </tr>\n",
       "    <tr>\n",
       "      <th>2021-07-23</th>\n",
       "      <td>-0.002551</td>\n",
       "      <td>-0.017137</td>\n",
       "      <td>-0.008547</td>\n",
       "      <td>-0.000902</td>\n",
       "      <td>0.000293</td>\n",
       "      <td>-0.012315</td>\n",
       "    </tr>\n",
       "    <tr>\n",
       "      <th>2021-07-26</th>\n",
       "      <td>-0.025575</td>\n",
       "      <td>-0.002564</td>\n",
       "      <td>-0.004310</td>\n",
       "      <td>0.009025</td>\n",
       "      <td>-0.004391</td>\n",
       "      <td>-0.017779</td>\n",
       "    </tr>\n",
       "    <tr>\n",
       "      <th>2021-07-27</th>\n",
       "      <td>-0.020997</td>\n",
       "      <td>-0.002828</td>\n",
       "      <td>-0.007504</td>\n",
       "      <td>0.006261</td>\n",
       "      <td>-0.017789</td>\n",
       "      <td>-0.012929</td>\n",
       "    </tr>\n",
       "  </tbody>\n",
       "</table>\n",
       "</div>"
      ],
      "text/plain": [
       "            LAME4.SA  EGIE3.SA  WEGE3.SA  ITSA4.SA  RENT3.SA  LREN3.SA\n",
       "Date                                                                  \n",
       "2021-07-14 -0.011241  0.003540 -0.004832  0.001764  0.036421 -0.002865\n",
       "2021-07-15 -0.024633  0.007811 -0.002571 -0.007922  0.001896 -0.005968\n",
       "2021-07-16  0.015056 -0.008000 -0.018041 -0.014197 -0.014699  0.001334\n",
       "2021-07-19 -0.087760 -0.007308 -0.003208 -0.008101 -0.006647 -0.023984\n",
       "2021-07-20  0.054430  0.002285  0.010825  0.011797  0.003717 -0.010239\n",
       "2021-07-21 -0.051621 -0.004813 -0.002894  0.006278 -0.010222 -0.007126\n",
       "2021-07-22 -0.007595  0.009926  0.018868 -0.011586  0.022302  0.015281\n",
       "2021-07-23 -0.002551 -0.017137 -0.008547 -0.000902  0.000293 -0.012315\n",
       "2021-07-26 -0.025575 -0.002564 -0.004310  0.009025 -0.004391 -0.017779\n",
       "2021-07-27 -0.020997 -0.002828 -0.007504  0.006261 -0.017789 -0.012929"
      ]
     },
     "execution_count": 7,
     "metadata": {},
     "output_type": "execute_result"
    }
   ],
   "source": [
    "retornos = (carteira / carteira.shift(1)) - 1\n",
    "retornos.tail(10)"
   ]
  },
  {
   "cell_type": "markdown",
   "metadata": {},
   "source": [
    "### Criando variável peso da carteira em que atribui os pesos para cada ativo da carteira. A soma dos pesos deve ser igual a 1"
   ]
  },
  {
   "cell_type": "code",
   "execution_count": 10,
   "metadata": {},
   "outputs": [],
   "source": [
    "peso_carteira = np.array([0.10, 0.15, 0.15, 0.15, 0.20, 0.25])"
   ]
  },
  {
   "cell_type": "markdown",
   "metadata": {},
   "source": [
    "### Calculando os retornos anuais da carteira de ativos."
   ]
  },
  {
   "cell_type": "code",
   "execution_count": 12,
   "metadata": {},
   "outputs": [
    {
     "name": "stdout",
     "output_type": "stream",
     "text": [
      "LAME4.SA   -0.114057\n",
      "EGIE3.SA   -0.011563\n",
      "WEGE3.SA    0.666661\n",
      "ITSA4.SA    0.036094\n",
      "RENT3.SA    0.418297\n",
      "LREN3.SA    0.070113\n",
      "dtype: float64\n"
     ]
    }
   ],
   "source": [
    "retornos_anuais = retornos.mean()*250\n",
    "print (retornos_anuais)"
   ]
  },
  {
   "cell_type": "markdown",
   "metadata": {},
   "source": [
    "### Estimando o produto do retorno da carteira de ativos."
   ]
  },
  {
   "cell_type": "code",
   "execution_count": 13,
   "metadata": {},
   "outputs": [
    {
     "data": {
      "text/plain": [
       "0.19346081752855676"
      ]
     },
     "execution_count": 13,
     "metadata": {},
     "output_type": "execute_result"
    }
   ],
   "source": [
    "np.dot(retornos_anuais, peso_carteira)"
   ]
  },
  {
   "cell_type": "markdown",
   "metadata": {},
   "source": [
    "### Convertendo o retorno da carteira para um valor percentual"
   ]
  },
  {
   "cell_type": "code",
   "execution_count": 14,
   "metadata": {},
   "outputs": [
    {
     "name": "stdout",
     "output_type": "stream",
     "text": [
      "19.346 %\n"
     ]
    }
   ],
   "source": [
    "pfolio_1 = str(round(np.dot(retornos_anuais, peso_carteira), 5) * 100) + ' %'\n",
    "print (pfolio_1)"
   ]
  },
  {
   "cell_type": "markdown",
   "metadata": {},
   "source": [
    "### Calculando o retorno de uma segunda carteira, com os mesmos ativos, porém, diferentes pesos"
   ]
  },
  {
   "cell_type": "code",
   "execution_count": 15,
   "metadata": {},
   "outputs": [],
   "source": [
    "peso_carteira_2 = np.array([0.15, 0.20, 0.15, 0.20, 0.15, 0.15])"
   ]
  },
  {
   "cell_type": "markdown",
   "metadata": {},
   "source": [
    "### Estimando o produto do retorno da segunda carteira de ativos."
   ]
  },
  {
   "cell_type": "code",
   "execution_count": 16,
   "metadata": {},
   "outputs": [
    {
     "data": {
      "text/plain": [
       "0.16105831569991738"
      ]
     },
     "execution_count": 16,
     "metadata": {},
     "output_type": "execute_result"
    }
   ],
   "source": [
    "np.dot(retornos_anuais,peso_carteira_2)"
   ]
  },
  {
   "cell_type": "markdown",
   "metadata": {},
   "source": [
    "### Comparação dos retornos entre os dois portfólios"
   ]
  },
  {
   "cell_type": "code",
   "execution_count": 17,
   "metadata": {},
   "outputs": [
    {
     "name": "stdout",
     "output_type": "stream",
     "text": [
      "19.346 %\n",
      "16.106 %\n"
     ]
    }
   ],
   "source": [
    "pfolio_2 = str(round(np.dot(retornos_anuais,peso_carteira_2), 5) * 100) + ' %'\n",
    "print (pfolio_1)\n",
    "print (pfolio_2)"
   ]
  },
  {
   "cell_type": "code",
   "execution_count": null,
   "metadata": {},
   "outputs": [],
   "source": []
  }
 ],
 "metadata": {
  "kernelspec": {
   "display_name": "Python 3",
   "language": "python",
   "name": "python3"
  },
  "language_info": {
   "codemirror_mode": {
    "name": "ipython",
    "version": 3
   },
   "file_extension": ".py",
   "mimetype": "text/x-python",
   "name": "python",
   "nbconvert_exporter": "python",
   "pygments_lexer": "ipython3",
   "version": "3.8.5"
  }
 },
 "nbformat": 4,
 "nbformat_minor": 4
}
