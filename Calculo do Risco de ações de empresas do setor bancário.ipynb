{
 "cells": [
  {
   "cell_type": "markdown",
   "metadata": {},
   "source": [
    "# Calculando o risco de ações de empresas do setor bancário"
   ]
  },
  {
   "cell_type": "markdown",
   "metadata": {},
   "source": [
    "### Empresas analisadas : Bradesco, Itaú, Santander e BTG Pactual"
   ]
  },
  {
   "cell_type": "markdown",
   "metadata": {},
   "source": [
    "### Importando Bibliotecas"
   ]
  },
  {
   "cell_type": "code",
   "execution_count": 1,
   "metadata": {},
   "outputs": [],
   "source": [
    "import numpy as np\n",
    "import pandas as pd\n",
    "from pandas_datareader import data as wb\n",
    "import matplotlib.pyplot as plt"
   ]
  },
  {
   "cell_type": "markdown",
   "metadata": {},
   "source": [
    "### Criando um DataFrame para carregar dados das cotações"
   ]
  },
  {
   "cell_type": "code",
   "execution_count": 2,
   "metadata": {},
   "outputs": [],
   "source": [
    "tickers = ['BBDC4.SA', 'BPAC11.SA','SANB11.SA', 'ITSA4.SA']\n",
    "\n",
    "data = pd.DataFrame()\n",
    "\n",
    "for t in tickers:\n",
    "    data[t] = wb.DataReader(t, data_source='yahoo', start='2017-06-30', end='2021-06-30')['Adj Close']"
   ]
  },
  {
   "cell_type": "markdown",
   "metadata": {},
   "source": [
    "### Verificando os dados iniciais da série"
   ]
  },
  {
   "cell_type": "code",
   "execution_count": 3,
   "metadata": {},
   "outputs": [
    {
     "data": {
      "text/html": [
       "<div>\n",
       "<style scoped>\n",
       "    .dataframe tbody tr th:only-of-type {\n",
       "        vertical-align: middle;\n",
       "    }\n",
       "\n",
       "    .dataframe tbody tr th {\n",
       "        vertical-align: top;\n",
       "    }\n",
       "\n",
       "    .dataframe thead th {\n",
       "        text-align: right;\n",
       "    }\n",
       "</style>\n",
       "<table border=\"1\" class=\"dataframe\">\n",
       "  <thead>\n",
       "    <tr style=\"text-align: right;\">\n",
       "      <th></th>\n",
       "      <th>BBDC4.SA</th>\n",
       "      <th>BPAC11.SA</th>\n",
       "      <th>SANB11.SA</th>\n",
       "      <th>ITSA4.SA</th>\n",
       "    </tr>\n",
       "    <tr>\n",
       "      <th>Date</th>\n",
       "      <th></th>\n",
       "      <th></th>\n",
       "      <th></th>\n",
       "      <th></th>\n",
       "    </tr>\n",
       "  </thead>\n",
       "  <tbody>\n",
       "    <tr>\n",
       "      <th>2017-06-30</th>\n",
       "      <td>16.085470</td>\n",
       "      <td>3.037287</td>\n",
       "      <td>19.949064</td>\n",
       "      <td>6.552326</td>\n",
       "    </tr>\n",
       "    <tr>\n",
       "      <th>2017-07-03</th>\n",
       "      <td>16.213388</td>\n",
       "      <td>3.037287</td>\n",
       "      <td>20.371983</td>\n",
       "      <td>6.552326</td>\n",
       "    </tr>\n",
       "    <tr>\n",
       "      <th>2017-07-04</th>\n",
       "      <td>16.234823</td>\n",
       "      <td>3.152893</td>\n",
       "      <td>20.300169</td>\n",
       "      <td>6.545062</td>\n",
       "    </tr>\n",
       "    <tr>\n",
       "      <th>2017-07-05</th>\n",
       "      <td>16.240576</td>\n",
       "      <td>3.289518</td>\n",
       "      <td>20.364004</td>\n",
       "      <td>6.610440</td>\n",
       "    </tr>\n",
       "    <tr>\n",
       "      <th>2017-07-06</th>\n",
       "      <td>16.004694</td>\n",
       "      <td>3.211911</td>\n",
       "      <td>20.036837</td>\n",
       "      <td>6.523269</td>\n",
       "    </tr>\n",
       "    <tr>\n",
       "      <th>2017-07-07</th>\n",
       "      <td>16.021961</td>\n",
       "      <td>3.231697</td>\n",
       "      <td>20.260267</td>\n",
       "      <td>6.516004</td>\n",
       "    </tr>\n",
       "    <tr>\n",
       "      <th>2017-07-10</th>\n",
       "      <td>16.200308</td>\n",
       "      <td>3.231697</td>\n",
       "      <td>20.467739</td>\n",
       "      <td>6.574119</td>\n",
       "    </tr>\n",
       "    <tr>\n",
       "      <th>2017-07-11</th>\n",
       "      <td>16.482185</td>\n",
       "      <td>3.231697</td>\n",
       "      <td>20.890661</td>\n",
       "      <td>6.668555</td>\n",
       "    </tr>\n",
       "    <tr>\n",
       "      <th>2017-07-12</th>\n",
       "      <td>16.919422</td>\n",
       "      <td>3.359206</td>\n",
       "      <td>21.457209</td>\n",
       "      <td>6.683083</td>\n",
       "    </tr>\n",
       "    <tr>\n",
       "      <th>2017-07-13</th>\n",
       "      <td>17.068995</td>\n",
       "      <td>3.359206</td>\n",
       "      <td>21.457209</td>\n",
       "      <td>6.704877</td>\n",
       "    </tr>\n",
       "    <tr>\n",
       "      <th>2017-07-14</th>\n",
       "      <td>17.086264</td>\n",
       "      <td>3.359206</td>\n",
       "      <td>21.313578</td>\n",
       "      <td>6.690349</td>\n",
       "    </tr>\n",
       "    <tr>\n",
       "      <th>2017-07-17</th>\n",
       "      <td>16.971193</td>\n",
       "      <td>3.363604</td>\n",
       "      <td>21.305599</td>\n",
       "      <td>6.668555</td>\n",
       "    </tr>\n",
       "    <tr>\n",
       "      <th>2017-07-18</th>\n",
       "      <td>17.184050</td>\n",
       "      <td>3.495509</td>\n",
       "      <td>21.513071</td>\n",
       "      <td>6.726667</td>\n",
       "    </tr>\n",
       "    <tr>\n",
       "      <th>2017-07-19</th>\n",
       "      <td>16.971193</td>\n",
       "      <td>3.429557</td>\n",
       "      <td>20.786926</td>\n",
       "      <td>6.668555</td>\n",
       "    </tr>\n",
       "    <tr>\n",
       "      <th>2017-07-20</th>\n",
       "      <td>16.913664</td>\n",
       "      <td>3.418564</td>\n",
       "      <td>20.747025</td>\n",
       "      <td>6.697611</td>\n",
       "    </tr>\n",
       "  </tbody>\n",
       "</table>\n",
       "</div>"
      ],
      "text/plain": [
       "             BBDC4.SA  BPAC11.SA  SANB11.SA  ITSA4.SA\n",
       "Date                                                 \n",
       "2017-06-30  16.085470   3.037287  19.949064  6.552326\n",
       "2017-07-03  16.213388   3.037287  20.371983  6.552326\n",
       "2017-07-04  16.234823   3.152893  20.300169  6.545062\n",
       "2017-07-05  16.240576   3.289518  20.364004  6.610440\n",
       "2017-07-06  16.004694   3.211911  20.036837  6.523269\n",
       "2017-07-07  16.021961   3.231697  20.260267  6.516004\n",
       "2017-07-10  16.200308   3.231697  20.467739  6.574119\n",
       "2017-07-11  16.482185   3.231697  20.890661  6.668555\n",
       "2017-07-12  16.919422   3.359206  21.457209  6.683083\n",
       "2017-07-13  17.068995   3.359206  21.457209  6.704877\n",
       "2017-07-14  17.086264   3.359206  21.313578  6.690349\n",
       "2017-07-17  16.971193   3.363604  21.305599  6.668555\n",
       "2017-07-18  17.184050   3.495509  21.513071  6.726667\n",
       "2017-07-19  16.971193   3.429557  20.786926  6.668555\n",
       "2017-07-20  16.913664   3.418564  20.747025  6.697611"
      ]
     },
     "execution_count": 3,
     "metadata": {},
     "output_type": "execute_result"
    }
   ],
   "source": [
    "data.head(15)"
   ]
  },
  {
   "cell_type": "markdown",
   "metadata": {},
   "source": [
    "### calculo dos retornos logaritmicos "
   ]
  },
  {
   "cell_type": "code",
   "execution_count": 4,
   "metadata": {},
   "outputs": [],
   "source": [
    "Sec_returns = np.log(data / data.shift(1))"
   ]
  },
  {
   "cell_type": "code",
   "execution_count": 5,
   "metadata": {},
   "outputs": [
    {
     "data": {
      "text/html": [
       "<div>\n",
       "<style scoped>\n",
       "    .dataframe tbody tr th:only-of-type {\n",
       "        vertical-align: middle;\n",
       "    }\n",
       "\n",
       "    .dataframe tbody tr th {\n",
       "        vertical-align: top;\n",
       "    }\n",
       "\n",
       "    .dataframe thead th {\n",
       "        text-align: right;\n",
       "    }\n",
       "</style>\n",
       "<table border=\"1\" class=\"dataframe\">\n",
       "  <thead>\n",
       "    <tr style=\"text-align: right;\">\n",
       "      <th></th>\n",
       "      <th>BBDC4.SA</th>\n",
       "      <th>BPAC11.SA</th>\n",
       "      <th>SANB11.SA</th>\n",
       "      <th>ITSA4.SA</th>\n",
       "    </tr>\n",
       "    <tr>\n",
       "      <th>Date</th>\n",
       "      <th></th>\n",
       "      <th></th>\n",
       "      <th></th>\n",
       "      <th></th>\n",
       "    </tr>\n",
       "  </thead>\n",
       "  <tbody>\n",
       "    <tr>\n",
       "      <th>2017-06-30</th>\n",
       "      <td>NaN</td>\n",
       "      <td>NaN</td>\n",
       "      <td>NaN</td>\n",
       "      <td>NaN</td>\n",
       "    </tr>\n",
       "    <tr>\n",
       "      <th>2017-07-03</th>\n",
       "      <td>0.007921</td>\n",
       "      <td>0.000000</td>\n",
       "      <td>0.020978</td>\n",
       "      <td>0.000000</td>\n",
       "    </tr>\n",
       "    <tr>\n",
       "      <th>2017-07-04</th>\n",
       "      <td>0.001321</td>\n",
       "      <td>0.037356</td>\n",
       "      <td>-0.003531</td>\n",
       "      <td>-0.001109</td>\n",
       "    </tr>\n",
       "    <tr>\n",
       "      <th>2017-07-05</th>\n",
       "      <td>0.000354</td>\n",
       "      <td>0.042421</td>\n",
       "      <td>0.003140</td>\n",
       "      <td>0.009939</td>\n",
       "    </tr>\n",
       "    <tr>\n",
       "      <th>2017-07-06</th>\n",
       "      <td>-0.014631</td>\n",
       "      <td>-0.023875</td>\n",
       "      <td>-0.016196</td>\n",
       "      <td>-0.013275</td>\n",
       "    </tr>\n",
       "    <tr>\n",
       "      <th>...</th>\n",
       "      <td>...</td>\n",
       "      <td>...</td>\n",
       "      <td>...</td>\n",
       "      <td>...</td>\n",
       "    </tr>\n",
       "    <tr>\n",
       "      <th>2021-06-24</th>\n",
       "      <td>0.007369</td>\n",
       "      <td>-0.006705</td>\n",
       "      <td>-0.002086</td>\n",
       "      <td>0.003407</td>\n",
       "    </tr>\n",
       "    <tr>\n",
       "      <th>2021-06-25</th>\n",
       "      <td>-0.031701</td>\n",
       "      <td>-0.017849</td>\n",
       "      <td>-0.023475</td>\n",
       "      <td>-0.024098</td>\n",
       "    </tr>\n",
       "    <tr>\n",
       "      <th>2021-06-28</th>\n",
       "      <td>-0.004938</td>\n",
       "      <td>0.030723</td>\n",
       "      <td>-0.009547</td>\n",
       "      <td>-0.010508</td>\n",
       "    </tr>\n",
       "    <tr>\n",
       "      <th>2021-06-29</th>\n",
       "      <td>-0.006111</td>\n",
       "      <td>0.006049</td>\n",
       "      <td>-0.008912</td>\n",
       "      <td>-0.005296</td>\n",
       "    </tr>\n",
       "    <tr>\n",
       "      <th>2021-06-30</th>\n",
       "      <td>-0.014278</td>\n",
       "      <td>-0.005230</td>\n",
       "      <td>-0.020287</td>\n",
       "      <td>-0.013363</td>\n",
       "    </tr>\n",
       "  </tbody>\n",
       "</table>\n",
       "<p>991 rows × 4 columns</p>\n",
       "</div>"
      ],
      "text/plain": [
       "            BBDC4.SA  BPAC11.SA  SANB11.SA  ITSA4.SA\n",
       "Date                                                \n",
       "2017-06-30       NaN        NaN        NaN       NaN\n",
       "2017-07-03  0.007921   0.000000   0.020978  0.000000\n",
       "2017-07-04  0.001321   0.037356  -0.003531 -0.001109\n",
       "2017-07-05  0.000354   0.042421   0.003140  0.009939\n",
       "2017-07-06 -0.014631  -0.023875  -0.016196 -0.013275\n",
       "...              ...        ...        ...       ...\n",
       "2021-06-24  0.007369  -0.006705  -0.002086  0.003407\n",
       "2021-06-25 -0.031701  -0.017849  -0.023475 -0.024098\n",
       "2021-06-28 -0.004938   0.030723  -0.009547 -0.010508\n",
       "2021-06-29 -0.006111   0.006049  -0.008912 -0.005296\n",
       "2021-06-30 -0.014278  -0.005230  -0.020287 -0.013363\n",
       "\n",
       "[991 rows x 4 columns]"
      ]
     },
     "execution_count": 5,
     "metadata": {},
     "output_type": "execute_result"
    }
   ],
   "source": [
    "Sec_returns"
   ]
  },
  {
   "cell_type": "markdown",
   "metadata": {},
   "source": [
    "# Bradesco"
   ]
  },
  {
   "cell_type": "markdown",
   "metadata": {},
   "source": [
    "### Média dos retornos"
   ]
  },
  {
   "cell_type": "code",
   "execution_count": 6,
   "metadata": {},
   "outputs": [
    {
     "data": {
      "text/plain": [
       "0.0004517851673312599"
      ]
     },
     "execution_count": 6,
     "metadata": {},
     "output_type": "execute_result"
    }
   ],
   "source": [
    "Sec_returns['BBDC4.SA'].mean()"
   ]
  },
  {
   "cell_type": "markdown",
   "metadata": {},
   "source": [
    "### Média dos retornos anualizados"
   ]
  },
  {
   "cell_type": "code",
   "execution_count": 29,
   "metadata": {},
   "outputs": [
    {
     "data": {
      "text/plain": [
       "0.11294629183281497"
      ]
     },
     "execution_count": 29,
     "metadata": {},
     "output_type": "execute_result"
    }
   ],
   "source": [
    "Sec_returns['BBDC4.SA'].mean() * 250"
   ]
  },
  {
   "cell_type": "markdown",
   "metadata": {},
   "source": [
    "### Desvio padrão dos retornos"
   ]
  },
  {
   "cell_type": "code",
   "execution_count": 8,
   "metadata": {},
   "outputs": [
    {
     "data": {
      "text/plain": [
       "0.02419679209752819"
      ]
     },
     "execution_count": 8,
     "metadata": {},
     "output_type": "execute_result"
    }
   ],
   "source": [
    "Sec_returns['BBDC4.SA'].std()"
   ]
  },
  {
   "cell_type": "markdown",
   "metadata": {},
   "source": [
    "### Desvio padrão dos retornos anualizados"
   ]
  },
  {
   "cell_type": "code",
   "execution_count": 9,
   "metadata": {},
   "outputs": [
    {
     "data": {
      "text/plain": [
       "0.38258487548876086"
      ]
     },
     "execution_count": 9,
     "metadata": {},
     "output_type": "execute_result"
    }
   ],
   "source": [
    "Sec_returns['BBDC4.SA'].std()*250**0.5"
   ]
  },
  {
   "cell_type": "markdown",
   "metadata": {},
   "source": [
    "# Itau"
   ]
  },
  {
   "cell_type": "code",
   "execution_count": 10,
   "metadata": {},
   "outputs": [
    {
     "data": {
      "text/plain": [
       "0.13424732436007858"
      ]
     },
     "execution_count": 10,
     "metadata": {},
     "output_type": "execute_result"
    }
   ],
   "source": [
    "Sec_returns['ITSA4.SA'].mean()*250"
   ]
  },
  {
   "cell_type": "code",
   "execution_count": 11,
   "metadata": {},
   "outputs": [
    {
     "data": {
      "text/plain": [
       "0.02045244245405131"
      ]
     },
     "execution_count": 11,
     "metadata": {},
     "output_type": "execute_result"
    }
   ],
   "source": [
    "Sec_returns['ITSA4.SA'].std()"
   ]
  },
  {
   "cell_type": "code",
   "execution_count": 12,
   "metadata": {},
   "outputs": [
    {
     "data": {
      "text/plain": [
       "0.323381509341629"
      ]
     },
     "execution_count": 12,
     "metadata": {},
     "output_type": "execute_result"
    }
   ],
   "source": [
    "Sec_returns['ITSA4.SA'].std()*250**0.5"
   ]
  },
  {
   "cell_type": "markdown",
   "metadata": {},
   "source": [
    "# Santander"
   ]
  },
  {
   "cell_type": "code",
   "execution_count": 13,
   "metadata": {},
   "outputs": [
    {
     "data": {
      "text/plain": [
       "0.17305399592692047"
      ]
     },
     "execution_count": 13,
     "metadata": {},
     "output_type": "execute_result"
    }
   ],
   "source": [
    "Sec_returns['SANB11.SA'].mean()*250"
   ]
  },
  {
   "cell_type": "code",
   "execution_count": 14,
   "metadata": {},
   "outputs": [
    {
     "data": {
      "text/plain": [
       "0.024225357778822013"
      ]
     },
     "execution_count": 14,
     "metadata": {},
     "output_type": "execute_result"
    }
   ],
   "source": [
    "Sec_returns['SANB11.SA'].std()"
   ]
  },
  {
   "cell_type": "code",
   "execution_count": 15,
   "metadata": {},
   "outputs": [
    {
     "data": {
      "text/plain": [
       "0.3830365385677756"
      ]
     },
     "execution_count": 15,
     "metadata": {},
     "output_type": "execute_result"
    }
   ],
   "source": [
    "Sec_returns['SANB11.SA'].std()*250**0.5"
   ]
  },
  {
   "cell_type": "markdown",
   "metadata": {},
   "source": [
    "# BTG Pactual"
   ]
  },
  {
   "cell_type": "code",
   "execution_count": 16,
   "metadata": {},
   "outputs": [
    {
     "data": {
      "text/plain": [
       "0.5826398538580888"
      ]
     },
     "execution_count": 16,
     "metadata": {},
     "output_type": "execute_result"
    }
   ],
   "source": [
    "Sec_returns['BPAC11.SA'].mean()*250"
   ]
  },
  {
   "cell_type": "code",
   "execution_count": 17,
   "metadata": {},
   "outputs": [
    {
     "data": {
      "text/plain": [
       "0.031967273341258526"
      ]
     },
     "execution_count": 17,
     "metadata": {},
     "output_type": "execute_result"
    }
   ],
   "source": [
    "Sec_returns['BPAC11.SA'].std()"
   ]
  },
  {
   "cell_type": "code",
   "execution_count": 18,
   "metadata": {},
   "outputs": [
    {
     "data": {
      "text/plain": [
       "0.5054469717177901"
      ]
     },
     "execution_count": 18,
     "metadata": {},
     "output_type": "execute_result"
    }
   ],
   "source": [
    "Sec_returns['BPAC11.SA'].std()*250**0.5"
   ]
  },
  {
   "cell_type": "markdown",
   "metadata": {},
   "source": [
    "### Transformando numeros decimais do risco em valores percentuais"
   ]
  },
  {
   "cell_type": "code",
   "execution_count": 27,
   "metadata": {},
   "outputs": [],
   "source": [
    "Bradesco_risk =  str(round(Sec_returns['BBDC4.SA'].std()*250**0.5, 4) * 100) +'%'\n",
    "Itau_risck =  str(round(Sec_returns['ITSA4.SA'].std()*250**0.5,4) * 100) +'%'\n",
    "Santander_risck = str(round(Sec_returns['SANB11.SA'].std()*250**0.5,4) * 100) +'%'\n",
    "BTG_risk =  str(round(Sec_returns['BPAC11.SA'].std()*250**0.5,4) * 100) +'%'"
   ]
  },
  {
   "cell_type": "code",
   "execution_count": 28,
   "metadata": {},
   "outputs": [
    {
     "name": "stdout",
     "output_type": "stream",
     "text": [
      "Bradesco_risk =  38.26%\n",
      "Itau_risck =  32.34%\n",
      "Santander_risck =  38.3%\n",
      "BTG_risk =  50.54%\n"
     ]
    }
   ],
   "source": [
    "print('Bradesco_risk = ' , Bradesco_risk)\n",
    "print ('Itau_risck = ' , Itau_risck)\n",
    "print('Santander_risck = ' , Santander_risck)\n",
    "print ('BTG_risk = ' , BTG_risk)"
   ]
  },
  {
   "cell_type": "markdown",
   "metadata": {},
   "source": [
    "### O ativo com maior volatidade são as ações do BTG."
   ]
  }
 ],
 "metadata": {
  "kernelspec": {
   "display_name": "Python 3",
   "language": "python",
   "name": "python3"
  },
  "language_info": {
   "codemirror_mode": {
    "name": "ipython",
    "version": 3
   },
   "file_extension": ".py",
   "mimetype": "text/x-python",
   "name": "python",
   "nbconvert_exporter": "python",
   "pygments_lexer": "ipython3",
   "version": "3.8.5"
  }
 },
 "nbformat": 4,
 "nbformat_minor": 2
}
